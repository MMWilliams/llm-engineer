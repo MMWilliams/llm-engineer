{
 "cells": [
  {
   "attachments": {},
   "cell_type": "markdown",
   "metadata": {},
   "source": [
    "# LLM Data Engineer Pre-Assignment\n",
    "\n",
    "Please upload link/file into IQN, if able to do so – otherwise, please send link/file directly to Magnit.\n",
    "\n",
    "## Assignment Requirements\n",
    "\n",
    "### Data Ingestion\n",
    "* Provide a dataset (e.g., JSON, CSV, or unstructured text files) that includes a mix of structured and unstructured data\n",
    "* Create a pipeline to load this data into a database of your choice, ensuring the schema is optimized for querying\n",
    "\n",
    "### Data Preprocessing\n",
    "* Handle data that may contain noise or require transformation (e.g., text cleaning, parsing nested JSON, handling missing values)\n",
    "* Demonstrate how to preprocess the data for efficient storage and later retrieval\n",
    "\n",
    "### Vectorization\n",
    "* Use a pre-trained language model or embeddings model to convert unstructured text into embeddings\n",
    "* Store these embeddings in a vector storage solution of your choice\n",
    "* Ensure the pipeline can handle batch processing for larger datasets\n",
    "\n",
    "### Query and Retrieve\n",
    "* Create a simple API or script that allows querying based on a given text prompt\n",
    "* Implement retrieval of similar embeddings from the vector store and return corresponding database records\n",
    "* Include a use case for Retriever-Augmented Generation (RAG)\n",
    "  * Retrieved data should be used to generate a summary or response based on the query\n",
    "\n",
    "### Documentation\n",
    "* Document your code\n",
    "* Explain the thought process behind design choices\n",
    "* Discuss any trade-offs considered (e.g., schema design, vector storage approach)\n",
    "\n",
    "### Bonus Points\n",
    "* Implement monitoring or logging for the data pipeline\n",
    "  * Track data flow\n",
    "  * Identify potential bottlenecks\n",
    "* Optimize the pipeline for scalability\n",
    "  * Handle larger files\n",
    "  * Implement parallel processing"
   ]
  },
  {
   "attachments": {},
   "cell_type": "markdown",
   "metadata": {},
   "source": []
  },
  {
   "cell_type": "markdown",
   "metadata": {},
   "source": []
  }
 ],
 "metadata": {
  "kernelspec": {
   "display_name": "Python 3",
   "language": "python",
   "name": "python3"
  },
  "language_info": {
   "name": "python",
   "version": "3.9.6"
  },
  "orig_nbformat": 4,
  "vscode": {
   "interpreter": {
    "hash": "31f2aee4e71d21fbe5cf8b01ff0e069b9275f58929596ceb00d14d90e3e16cd6"
   }
  }
 },
 "nbformat": 4,
 "nbformat_minor": 2
}
